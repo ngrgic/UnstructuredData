{
 "cells": [
  {
   "cell_type": "code",
   "execution_count": 2,
   "metadata": {},
   "outputs": [],
   "source": [
    "import os\n",
    "from hdfs import InsecureClient\n",
    "client = InsecureClient('http://namenode:50070', user='vagrant')"
   ]
  },
  {
   "cell_type": "markdown",
   "metadata": {},
   "source": [
    "## Define a function to upload the files from each directory to hdfs"
   ]
  },
  {
   "cell_type": "code",
   "execution_count": 14,
   "metadata": {},
   "outputs": [],
   "source": [
    "def upload_cwl_files(cwl_files):\n",
    "    directory = './{}'.format(cwl_files)\n",
    "    for event in os.listdir(directory):\n",
    "        event_directory = '{}/{}'.format(directory, event)\n",
    "        for match in os.listdir(event_directory):\n",
    "            json_path = os.path.join(event_directory, match)\n",
    "            hdfs_path = '/Users/vagrant/{}/{}'.format(event, match)\n",
    "            client.upload(hdfs_path, json_path)"
   ]
  },
  {
   "cell_type": "code",
   "execution_count": 15,
   "metadata": {},
   "outputs": [],
   "source": [
    "upload_cwl_files('cwl_data')"
   ]
  },
  {
   "cell_type": "markdown",
   "metadata": {},
   "source": [
    "## Check to see that it worked"
   ]
  },
  {
   "cell_type": "code",
   "execution_count": 25,
   "metadata": {},
   "outputs": [
    {
     "data": {
      "text/plain": [
       "['structured-2018-01-14-neworleans',\n",
       " 'structured-2018-03-11-atlanta',\n",
       " 'structured-2018-04-01-birmingham',\n",
       " 'structured-2018-04-08-proleague1',\n",
       " 'structured-2018-04-19-relegation',\n",
       " 'structured-2018-04-22-seattle',\n",
       " 'structured-2018-06-17-anaheim',\n",
       " 'structured-2018-07-29-proleague2',\n",
       " 'structured-2018-08-19-champs']"
      ]
     },
     "execution_count": 25,
     "metadata": {},
     "output_type": "execute_result"
    }
   ],
   "source": [
    "client.list('/Users/vagrant/')"
   ]
  }
 ],
 "metadata": {
  "kernelspec": {
   "display_name": "Python 3",
   "language": "python",
   "name": "python3"
  },
  "language_info": {
   "codemirror_mode": {
    "name": "ipython",
    "version": 3
   },
   "file_extension": ".py",
   "mimetype": "text/x-python",
   "name": "python",
   "nbconvert_exporter": "python",
   "pygments_lexer": "ipython3",
   "version": "3.7.2"
  }
 },
 "nbformat": 4,
 "nbformat_minor": 2
}
