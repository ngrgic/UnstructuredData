{
 "cells": [
  {
   "cell_type": "code",
   "execution_count": 14,
   "metadata": {},
   "outputs": [],
   "source": [
    "import os\n",
    "\n",
    "import json\n",
    "\n",
    "import matplotlib.pyplot as plt\n",
    "from matplotlib.backends.backend_agg import FigureCanvasAgg as FigureCanvas\n",
    "from matplotlib.figure import Figure"
   ]
  },
  {
   "cell_type": "code",
   "execution_count": 15,
   "metadata": {},
   "outputs": [],
   "source": [
    "PATH_TO_WW2_MAPS = '../week6/cwl-data/maps/ww2/'\n",
    "\n",
    "MAP_IMAGES = {\n",
    "    'Aachen': 'aachen.png',\n",
    "    'Ardennes Forest': 'ardennes_forest.png',\n",
    "    'Flak Tower': 'flaktower.png',\n",
    "    'Gibraltar': 'gibraltar.png',\n",
    "    'London Docks': 'london_docks.png',\n",
    "    'Sainte Marie du Mont': 'sainte_marie_du_mont.png' ,\n",
    "    'USS Texas': 'uss_texas.png',\n",
    "    'Valkyrie': 'valkyrie.png'\n",
    "}"
   ]
  },
  {
   "cell_type": "code",
   "execution_count": 16,
   "metadata": {},
   "outputs": [
    {
     "name": "stdout",
     "output_type": "stream",
     "text": [
      "These directories were created:\n",
      "['structured-2018-07-29-proleague2', 'structured-2018-08-19-champs', 'structured-2018-04-08-proleague1', 'structured-2018-04-19-relegation', 'structured-2018-06-17-anaheim', 'structured-2018-03-11-atlanta', 'structured-2018-04-22-seattle', 'structured-2018-04-01-birmingham', 'structured-2018-01-14-neworleans']\n",
      "These directories already exist:\n",
      "[]\n"
     ]
    }
   ],
   "source": [
    "#first, get just the directory names related to cities \n",
    "tour_stops = os.listdir('/home/vagrant/work/week7/cwl_data')\n",
    "\n",
    "#Now make a new directory to save our maps in for each tour stop\n",
    "newly_created_dirs = []\n",
    "already_made_dirs = []\n",
    "for i in range(len(tour_stops)):\n",
    "    try:\n",
    "        os.makedirs('/home/vagrant/work/week7/maps/{}'.format(tour_stops[i])) \n",
    "        newly_created_dirs.append(tour_stops[i])\n",
    "    except FileExistsError:\n",
    "        already_made_dirs.append(tour_stops[i])\n",
    "\n",
    "print('These directories were created:')\n",
    "print(newly_created_dirs)\n",
    "print('These directories already exist:')\n",
    "print(already_made_dirs)"
   ]
  },
  {
   "cell_type": "code",
   "execution_count": 17,
   "metadata": {},
   "outputs": [],
   "source": [
    "#define a function to loop through all of our directories and make the maps \n",
    "def plot_matches(directory):\n",
    "    counter = 0\n",
    "    for tour_event in os.listdir('./{}'.format(directory)):\n",
    "        for a_match in os.listdir('./{}/{}'.format(directory, tour_event)):\n",
    "            with open('./{}/{}/{}'.format(directory, tour_event, a_match), 'r') as match_file:\n",
    "            # get match data\n",
    "                match = json.load(match_file)\n",
    "                \n",
    "                death_pos, spawn_pos = {'x': [], 'y': []}, {'x': [], 'y': []}\n",
    "\n",
    "                # get pos data\n",
    "                events = match['events']\n",
    "                for evt in events:\n",
    "                    if evt['type'] == 'spawn':\n",
    "                        spawn_pos['x'].append( evt['data']['pos']['x'] )\n",
    "                        spawn_pos['y'].append( evt['data']['pos']['y'] )\n",
    "                    if evt['type'] == 'death':\n",
    "                        death_pos['x'].append( evt['data']['pos']['x'] )\n",
    "                        death_pos['y'].append( evt['data']['pos']['y'] )\n",
    "            \n",
    "                # get map image\n",
    "                if match['map'] in MAP_IMAGES:\n",
    "                    map_file_name = PATH_TO_WW2_MAPS + MAP_IMAGES[match['map']]\n",
    "                    map_image = plt.imread(map_file_name)\n",
    "\n",
    "                    # create figure\n",
    "                    fig = Figure()\n",
    "                    FigureCanvas(fig)\n",
    "                    ax = fig.subplots(1,1)\n",
    "                    fig.set_figheight(15)\n",
    "                    fig.set_figwidth(15)\n",
    "                    # plot map\n",
    "                    ax.imshow(map_image)\n",
    "                    ax.set_facecolor((210/255.0, 210/255.0, 210/255.0))\n",
    "                    # plot spawns\n",
    "                    ax.scatter(spawn_pos['x'], spawn_pos['y'], color='cyan')\n",
    "                    # plot deaths\n",
    "                    ax.scatter(death_pos['x'], death_pos['y'], color='red')\n",
    "                    # set title\n",
    "                    ax.set_title('{} ({})'.format(match['map'], match['mode']))\n",
    "\n",
    "                    #save the plot \n",
    "                    pattern_for_match = r'([a-zA-Z0-9-]+)(\\.json)'\n",
    "                    json_regex = re.compile(pattern_for_match)\n",
    "                    filename_groups = json_regex.match(a_match).groups()\n",
    "                    A_MATCH = filename_groups[0]\n",
    "                    fig.savefig('./maps/{}/{}.png'.format(tour_event, A_MATCH))\n",
    "                    \n",
    "                    counter += 1\n",
    "                    if counter % 100 == 0:\n",
    "                        print(counter)"
   ]
  },
  {
   "cell_type": "code",
   "execution_count": 18,
   "metadata": {},
   "outputs": [
    {
     "name": "stdout",
     "output_type": "stream",
     "text": [
      "100\n",
      "200\n",
      "300\n",
      "400\n",
      "500\n",
      "600\n",
      "700\n",
      "800\n",
      "900\n",
      "1000\n",
      "1100\n",
      "1200\n",
      "1300\n",
      "1400\n",
      "1500\n",
      "1600\n",
      "1700\n",
      "1800\n",
      "1900\n",
      "2000\n",
      "2100\n",
      "2200\n",
      "2300\n",
      "2400\n",
      "2500\n",
      "2600\n"
     ]
    }
   ],
   "source": [
    "plot_matches('cwl_data')"
   ]
  }
 ],
 "metadata": {
  "kernelspec": {
   "display_name": "Python 3",
   "language": "python",
   "name": "python3"
  },
  "language_info": {
   "codemirror_mode": {
    "name": "ipython",
    "version": 3
   },
   "file_extension": ".py",
   "mimetype": "text/x-python",
   "name": "python",
   "nbconvert_exporter": "python",
   "pygments_lexer": "ipython3",
   "version": "3.7.2"
  }
 },
 "nbformat": 4,
 "nbformat_minor": 2
}
